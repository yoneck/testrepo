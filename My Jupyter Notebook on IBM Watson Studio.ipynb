{
    "cells": [
        {
            "cell_type": "markdown",
            "metadata": {
                "collapsed": true
            },
            "source": "# My Jupyter Notebook on IBM Watson Studio"
        },
        {
            "cell_type": "markdown",
            "metadata": {},
            "source": "**Grzegorz Gogol**\n\nProject Manager"
        },
        {
            "cell_type": "markdown",
            "metadata": {},
            "source": "*I am interested in data science because it gives amazing possibilities to discover relations in raw data and create new tools for better future. It is fascinating how much information can be extracted from data and to what extend algorithms can learn itself to recognize various things.*"
        },
        {
            "cell_type": "markdown",
            "metadata": {},
            "source": "### Following cell will generate list with first 20  numbers from Fibonacci series"
        },
        {
            "cell_type": "code",
            "execution_count": 13,
            "metadata": {},
            "outputs": [
                {
                    "name": "stdout",
                    "output_type": "stream",
                    "text": "[0, 1, 1, 2, 3, 5, 8, 13, 21, 34, 55, 89, 144, 233, 377, 610, 987, 1597, 2584, 4181]\n"
                }
            ],
            "source": "f=[]\nf.append(0)\nf.append(1)\nfor i in range (2,20):\n    f.append(f[i-1]+f[i-2])\nprint(f)"
        },
        {
            "cell_type": "markdown",
            "metadata": {},
            "source": "---\nThe code above does 3 simple steps:\n* initiates list with two first values of Fibonacci series (0 and 1)\n* calculates next 18 values by adding two previous elements\n* prints outputs\n\nImage below illustrates squares whose side lengths are successive Fibonacci numbers\n\n![alt text](https://upload.wikimedia.org/wikipedia/commons/d/db/34%2A21-FibonacciBlocks.png \"Fibonacci blocks\")\n\nMore details on Fibonacci numbers and its incredible properties can be found on https://en.wikipedia.org/wiki/Fibonacci_number\n\n---"
        }
    ],
    "metadata": {
        "kernelspec": {
            "display_name": "Python 3.6",
            "language": "python",
            "name": "python3"
        },
        "language_info": {
            "codemirror_mode": {
                "name": "ipython",
                "version": 3
            },
            "file_extension": ".py",
            "mimetype": "text/x-python",
            "name": "python",
            "nbconvert_exporter": "python",
            "pygments_lexer": "ipython3",
            "version": "3.6.9"
        }
    },
    "nbformat": 4,
    "nbformat_minor": 1
}